{
 "cells": [
  {
   "cell_type": "markdown",
   "metadata": {},
   "source": [
    "# Trivia Crack"
   ]
  },
  {
   "cell_type": "code",
   "execution_count": 102,
   "metadata": {},
   "outputs": [],
   "source": [
    "import json\n",
    "import random\n",
    "import time\n",
    "import os"
   ]
  },
  {
   "cell_type": "code",
   "execution_count": 103,
   "metadata": {},
   "outputs": [],
   "source": [
    "class TriviaCrack:\n",
    "\n",
    "    def __init__(self, file_path = 'questions.json'):\n",
    "\n",
    "        with open(file_path, 'r') as json_file:\n",
    "            loaded_quiz_data = json.load(json_file)\n",
    "\n",
    "        \"\"\"\n",
    "        # Access the categories\n",
    "        categories = loaded_quiz_data[\"categories\"]\n",
    "\n",
    "        # Example: Accessing the first question from the \"Artificial Intelligence\" category\n",
    "        ai_questions = categories[\"Artificial Intelligence\"][\"questions\"]\n",
    "        first_question = ai_questions[0]\n",
    "\n",
    "        # Extracting the question text, options, and correct answer\n",
    "        question_text = first_question[\"question\"]\n",
    "        options = first_question[\"options\"]\n",
    "        correct_answer = first_question[\"correct_answer\"]\n",
    "\n",
    "        # Print the values\n",
    "        print(\"Question:\", question_text)\n",
    "        print(\"Options:\", options)\n",
    "        print(\"Correct Answer:\", correct_answer)\n",
    "\n",
    "        \"\"\"\n",
    "\n",
    "        self.categories = loaded_quiz_data[\"categories\"]\n",
    "\n",
    "\n",
    "    def select_question(self):\n",
    "\n",
    "        # Select a random category\n",
    "\n",
    "        while True:\n",
    "\n",
    "            try:\n",
    "                category = random.choice(list(self.categories.keys()))\n",
    "                questions = self.categories[category]['questions']\n",
    "                question = self.categories[category]['questions'].pop(random.randint(0, len(questions) - 1))\n",
    "                break\n",
    "            except:\n",
    "                pass\n",
    "\n",
    "        return category, question\n",
    "\n",
    "\n",
    "    def play(self):\n",
    "\n",
    "        score = 0\n",
    "\n",
    "        while True:\n",
    "            \n",
    "            info = self.select_question()\n",
    "            categroy = info[0]\n",
    "            question = info[1]\n",
    "            print(f\"The following question is about {categroy}\")\n",
    "            print(question['question'])\n",
    "            print(question['options'])\n",
    "\n",
    "            while True:\n",
    "                answer = input(\"Enter your answer:\").upper()\n",
    "                \n",
    "                # Clear console\n",
    "                os.system('cls' if os.name == 'nt' else 'clear')\n",
    "\n",
    "\n",
    "                if answer in \"ABCD\":\n",
    "                    break\n",
    "\n",
    "                else:\n",
    "                    print(\"Select A, B, C or D\")\n",
    "\n",
    "            if answer == question['correct_answer']:\n",
    "\n",
    "                score += 1\n",
    "\n",
    "                print(\"Correct answer! 🥳\")\n",
    "                print(f\"You have answered {score} questions correctly\")\n",
    "\n",
    "                if score >= 10:\n",
    "                    print(\"You are a winner! 🥳\")\n",
    "                    break\n",
    "\n",
    "\n",
    "            else:\n",
    "                print(\"Incorrect! 😡\")\n",
    "                print(f\"Correct answer was {question['correct_answer']}\")\n",
    "                time.sleep(0.5)\n",
    "                print(\"You're out 🙃\")\n",
    "                break\n"
   ]
  },
  {
   "cell_type": "code",
   "execution_count": 104,
   "metadata": {},
   "outputs": [],
   "source": [
    "game = TriviaCrack()"
   ]
  },
  {
   "cell_type": "code",
   "execution_count": 105,
   "metadata": {},
   "outputs": [
    {
     "name": "stdout",
     "output_type": "stream",
     "text": [
      "The following question is about Data Science\n",
      "What is the purpose of cross-validation in data science?\n",
      "{'A': 'To test a model’s generalizability', 'B': 'To reduce overfitting', 'C': 'To enhance computational speed', 'D': 'Both A and B'}\n",
      "Correct answer! 🥳\n",
      "You have answered 1 questions correctly\n",
      "The following question is about Mathematics\n",
      "What is the sum of the angles in a triangle?\n",
      "{'A': '180 degrees', 'B': '90 degrees', 'C': '360 degrees', 'D': '270 degrees'}\n",
      "Correct answer! 🥳\n",
      "You have answered 2 questions correctly\n",
      "The following question is about Data Science\n",
      "Which programming language is most commonly used in Data Science?\n",
      "{'A': 'Java', 'B': 'Python', 'C': 'C++', 'D': 'Ruby'}\n",
      "Select A, B, C or D\n",
      "Select A, B, C or D\n",
      "Correct answer! 🥳\n",
      "You have answered 3 questions correctly\n",
      "The following question is about Data Science\n",
      "What type of chart is best for showing the distribution of a single variable?\n",
      "{'A': 'Histogram', 'B': 'Scatter Plot', 'C': 'Line Chart', 'D': 'Pie Chart'}\n",
      "Incorrect! 😡\n",
      "Correct answer was A\n",
      "You're out 🙃\n"
     ]
    }
   ],
   "source": [
    "game.play()"
   ]
  }
 ],
 "metadata": {
  "kernelspec": {
   "display_name": "test",
   "language": "python",
   "name": "python3"
  },
  "language_info": {
   "codemirror_mode": {
    "name": "ipython",
    "version": 3
   },
   "file_extension": ".py",
   "mimetype": "text/x-python",
   "name": "python",
   "nbconvert_exporter": "python",
   "pygments_lexer": "ipython3",
   "version": "3.12.4"
  }
 },
 "nbformat": 4,
 "nbformat_minor": 2
}
