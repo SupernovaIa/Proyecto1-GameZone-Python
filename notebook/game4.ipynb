{
 "cells": [
  {
   "cell_type": "markdown",
   "metadata": {},
   "source": [
    "# Trivia Crack"
   ]
  },
  {
   "cell_type": "code",
   "execution_count": 1,
   "metadata": {},
   "outputs": [],
   "source": [
    "import json"
   ]
  },
  {
   "cell_type": "code",
   "execution_count": 2,
   "metadata": {},
   "outputs": [],
   "source": [
    "class TriviaCrack():\n",
    "\n",
    "    def __init__(self, file_path = 'questions.json'):\n",
    "\n",
    "        with open(file_path, 'r') as json_file:\n",
    "            loaded_quiz_data = json.load(json_file)\n",
    "\n",
    "        # Access the categories\n",
    "        categories = loaded_quiz_data[\"categories\"]\n",
    "\n",
    "        # Example: Accessing the first question from the \"Artificial Intelligence\" category\n",
    "        ai_questions = categories[\"Artificial Intelligence\"][\"questions\"]\n",
    "        first_question = ai_questions[0]\n",
    "\n",
    "        # Extracting the question text, options, and correct answer\n",
    "        question_text = first_question[\"question\"]\n",
    "        options = first_question[\"options\"]\n",
    "        correct_answer = first_question[\"correct_answer\"]\n",
    "\n",
    "        # Print the values\n",
    "        print(\"Question:\", question_text)\n",
    "        print(\"Options:\", options)\n",
    "        print(\"Correct Answer:\", correct_answer)\n"
   ]
  },
  {
   "cell_type": "code",
   "execution_count": 3,
   "metadata": {},
   "outputs": [
    {
     "name": "stdout",
     "output_type": "stream",
     "text": [
      "Question: Which of the following is a type of machine learning?\n",
      "Options: {'A': 'Supervised Learning', 'B': 'Monitored Learning', 'C': 'Controlled Learning', 'D': 'Targeted Learning'}\n",
      "Correct Answer: A\n"
     ]
    }
   ],
   "source": [
    "game = TriviaCrack()"
   ]
  }
 ],
 "metadata": {
  "kernelspec": {
   "display_name": "test",
   "language": "python",
   "name": "python3"
  },
  "language_info": {
   "codemirror_mode": {
    "name": "ipython",
    "version": 3
   },
   "file_extension": ".py",
   "mimetype": "text/x-python",
   "name": "python",
   "nbconvert_exporter": "python",
   "pygments_lexer": "ipython3",
   "version": "3.12.4"
  }
 },
 "nbformat": 4,
 "nbformat_minor": 2
}
