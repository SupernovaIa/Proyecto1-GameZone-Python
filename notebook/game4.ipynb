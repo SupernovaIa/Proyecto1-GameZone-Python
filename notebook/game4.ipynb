{
 "cells": [
  {
   "cell_type": "markdown",
   "metadata": {},
   "source": [
    "# Trivia Crack"
   ]
  },
  {
   "cell_type": "code",
   "execution_count": 24,
   "metadata": {},
   "outputs": [],
   "source": [
    "import json\n",
    "import random\n",
    "import time\n",
    "import os"
   ]
  },
  {
   "cell_type": "code",
   "execution_count": 25,
   "metadata": {},
   "outputs": [],
   "source": [
    "class TriviaCrack:\n",
    "\n",
    "    def __init__(self, file_path = '../asset/questions.json'):\n",
    "        \"\"\"\n",
    "        Initializes the class by loading quiz data from a JSON file and setting the categories attribute.\n",
    "\n",
    "        Parameters:\n",
    "        - file_path (str): Path to the JSON file containing quiz data. Defaults to 'questions.json'.\n",
    "        \"\"\"\n",
    "        # Open file with questions per categories\n",
    "        with open(file_path, 'r') as json_file:\n",
    "            loaded_quiz_data = json.load(json_file)\n",
    "\n",
    "        # Extract categories\n",
    "        self.categories = loaded_quiz_data[\"categories\"]\n",
    "\n",
    "\n",
    "    def select_question(self):\n",
    "        \"\"\"\n",
    "        Selects a random question from a randomly chosen category.\n",
    "\n",
    "        Returns:\n",
    "        - category (str): The selected category.\n",
    "        - question (dict): A randomly selected question from the chosen category.\n",
    "        \"\"\"\n",
    "\n",
    "        # Select a random category\n",
    "        while True:\n",
    "            try:\n",
    "                category = random.choice(list(self.categories.keys()))\n",
    "                questions = self.categories[category]['questions']\n",
    "                question = self.categories[category]['questions'].pop(random.randint(0, len(questions) - 1))\n",
    "                break\n",
    "            except:\n",
    "                pass\n",
    "\n",
    "        return category, question\n",
    "\n",
    "\n",
    "    def play(self):\n",
    "        \"\"\"\n",
    "        Plays a quiz game where the player answers randomly selected questions from different categories. The game continues until the player answers incorrectly or wins by reaching a score of 10.\n",
    "        \"\"\"\n",
    "        # Starting score\n",
    "        score = 0\n",
    "\n",
    "        while True:\n",
    "\n",
    "            # Get info from a random question\n",
    "            info = self.select_question()\n",
    "            categroy = info[0]\n",
    "            question = info[1]\n",
    "            print(f\"The following question is about {categroy}\")\n",
    "            print(question['question'])\n",
    "            print(question['options'])\n",
    "\n",
    "            # Type the answer\n",
    "            while True:\n",
    "                answer = input(\"Enter your answer:\").upper()\n",
    "                \n",
    "                # Clear console\n",
    "                os.system('cls' if os.name == 'nt' else 'clear')\n",
    "                # Check if valid\n",
    "                if answer in \"ABCD\":\n",
    "                    break\n",
    "                else:\n",
    "                    print(\"Select A, B, C or D\")\n",
    "\n",
    "            # Check if correct\n",
    "            if answer == question['correct_answer']:\n",
    "                score += 1\n",
    "                print(\"Correct answer! 🥳\")\n",
    "                print(f\"You have answered {score} questions correctly\")\n",
    "\n",
    "                # Check if won the game\n",
    "                if score >= 10:\n",
    "                    print(\"You are a winner! 🏆\")\n",
    "                    break\n",
    "\n",
    "            # I incorrect you are out\n",
    "            else:\n",
    "                print(\"Incorrect! 😡\")\n",
    "                print(f\"Correct answer was {question['correct_answer']}\")\n",
    "                time.sleep(0.5)\n",
    "                print(\"You're out 🙃\")\n",
    "                break\n"
   ]
  },
  {
   "cell_type": "code",
   "execution_count": 26,
   "metadata": {},
   "outputs": [],
   "source": [
    "game = TriviaCrack()"
   ]
  },
  {
   "cell_type": "code",
   "execution_count": 27,
   "metadata": {},
   "outputs": [
    {
     "name": "stdout",
     "output_type": "stream",
     "text": [
      "The following question is about Mathematics\n",
      "What is the integral of 1/x?\n",
      "{'A': 'ln|x| + C', 'B': 'x²/2', 'C': '1/x²', 'D': 'e^x'}\n",
      "\u001b[H\u001b[2JIncorrect! 😡\n",
      "Correct answer was A\n",
      "You're out 🙃\n"
     ]
    }
   ],
   "source": [
    "game.play()"
   ]
  }
 ],
 "metadata": {
  "kernelspec": {
   "display_name": "test",
   "language": "python",
   "name": "python3"
  },
  "language_info": {
   "codemirror_mode": {
    "name": "ipython",
    "version": 3
   },
   "file_extension": ".py",
   "mimetype": "text/x-python",
   "name": "python",
   "nbconvert_exporter": "python",
   "pygments_lexer": "ipython3",
   "version": "3.12.4"
  }
 },
 "nbformat": 4,
 "nbformat_minor": 2
}
