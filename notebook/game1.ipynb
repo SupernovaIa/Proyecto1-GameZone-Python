{
 "cells": [
  {
   "cell_type": "markdown",
   "metadata": {},
   "source": [
    "# Rock Paper Scissors Lizard Spock"
   ]
  },
  {
   "cell_type": "code",
   "execution_count": 84,
   "metadata": {},
   "outputs": [],
   "source": [
    "import random"
   ]
  },
  {
   "cell_type": "code",
   "execution_count": 85,
   "metadata": {},
   "outputs": [],
   "source": [
    "class SpockGame():\n",
    "\n",
    "    def __init__(self):\n",
    "\n",
    "        self.options = ('rock', 'lizard', 'spock', 'scissors', 'paper')\n",
    "        \n",
    "        self.lives = 3\n",
    "\n",
    "    def player(self):\n",
    "        machine_index = random.randint(1, len(self.options)) - 1\n",
    "        machine = self.options[machine_index]\n",
    "        player = input(\"Select one\")\n",
    "        player_index = self.options.index(player)\n",
    "\n",
    "        print(player, machine)\n",
    "\n",
    "        self.diff = machine_index - player_index\n",
    "\n",
    "    def turn(self):\n",
    "\n",
    "        machine_win_conditions = [2, 4, -1, -3]\n",
    "        player_win_conditions = [1, 3, -2, -4]\n",
    "\n",
    "        if self.diff == 0:\n",
    "            state = 0 # draw\n",
    "            print(\"Draw\")\n",
    "        elif self.diff in player_win_conditions:\n",
    "            state = 1 # player wins\n",
    "            print(\"Player wins\")\n",
    "        elif self.diff in machine_win_conditions:\n",
    "            state = -1 # machine wins\n",
    "            print(\"Machine wins\")\n",
    "            self.lives -= 1\n",
    "\n",
    "    def play(self):\n",
    "\n",
    "        while self.lives > 0:\n",
    "\n",
    "            self.player()\n",
    "            self.turn()\n",
    "            print(\"Lives remaining:\", self.lives)"
   ]
  },
  {
   "cell_type": "code",
   "execution_count": 86,
   "metadata": {},
   "outputs": [],
   "source": [
    "game = SpockGame()"
   ]
  },
  {
   "cell_type": "code",
   "execution_count": 87,
   "metadata": {},
   "outputs": [
    {
     "name": "stdout",
     "output_type": "stream",
     "text": [
      "spock rock\n",
      "Player wins\n",
      "Lives remaining: 3\n",
      "spock rock\n",
      "Player wins\n",
      "Lives remaining: 3\n",
      "spock scissors\n",
      "Player wins\n",
      "Lives remaining: 3\n",
      "spock paper\n",
      "Machine wins\n",
      "Lives remaining: 2\n",
      "spock spock\n",
      "Draw\n",
      "Lives remaining: 2\n",
      "spock paper\n",
      "Machine wins\n",
      "Lives remaining: 1\n",
      "spock lizard\n",
      "Machine wins\n",
      "Lives remaining: 0\n"
     ]
    }
   ],
   "source": [
    "game.play()"
   ]
  }
 ],
 "metadata": {
  "kernelspec": {
   "display_name": "test",
   "language": "python",
   "name": "python3"
  },
  "language_info": {
   "codemirror_mode": {
    "name": "ipython",
    "version": 3
   },
   "file_extension": ".py",
   "mimetype": "text/x-python",
   "name": "python",
   "nbconvert_exporter": "python",
   "pygments_lexer": "ipython3",
   "version": "3.12.4"
  }
 },
 "nbformat": 4,
 "nbformat_minor": 2
}
