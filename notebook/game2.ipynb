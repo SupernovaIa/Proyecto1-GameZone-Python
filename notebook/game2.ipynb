{
 "cells": [
  {
   "cell_type": "markdown",
   "metadata": {},
   "source": [
    "# Hangman"
   ]
  },
  {
   "cell_type": "code",
   "execution_count": 32,
   "metadata": {},
   "outputs": [],
   "source": [
    "import random"
   ]
  },
  {
   "cell_type": "code",
   "execution_count": 55,
   "metadata": {},
   "outputs": [],
   "source": [
    "class Hangman():\n",
    "\n",
    "    def __init__(self):\n",
    "        \n",
    "        test_words = ['cafe', 'taza', 'manolo', 'popopo']\n",
    "        word_index = random.randint(0, len(test_words) - 1)\n",
    "        self.word_to_guess = test_words[word_index]\n",
    "        self.length_word = len(self.word_to_guess)\n",
    "        self.display = [\"_\"] * self.length_word\n",
    "        self.lives = 5\n",
    "        print(self.word_to_guess)\n",
    "\n",
    "    def show_display(self):\n",
    "        print(self.display)\n",
    "\n",
    "    def turn(self):\n",
    "        char_trial = input(\"Try a char:\").lower()\n",
    "        guessed = False\n",
    "        for i in range(self.length_word):\n",
    "            if self.word_to_guess[i] == char_trial:\n",
    "                self.display[i] = char_trial\n",
    "                guessed = True\n",
    "\n",
    "        if not guessed:\n",
    "            self.lives -= 1\n",
    "            \n",
    "        if '_' not in self.display:\n",
    "            print(\"Has ganado!!!\")\n",
    "            print(self.word_to_guess)\n",
    "            self.win = True\n",
    "            \n",
    "        if self.lives < 1:\n",
    "            print(\"Loser\")\n",
    "\n",
    "    def play(self):\n",
    "        self.win = False\n",
    "        i = 1\n",
    "        while self.lives > 0:\n",
    "            print(\"Turn: \", i)\n",
    "            self.show_display()\n",
    "            self.turn()\n",
    "            i += 1\n",
    "            print(self.lives, \" lives remaining\")\n",
    "\n",
    "            if self.win:\n",
    "                break"
   ]
  },
  {
   "cell_type": "code",
   "execution_count": 56,
   "metadata": {},
   "outputs": [
    {
     "name": "stdout",
     "output_type": "stream",
     "text": [
      "popopo\n"
     ]
    }
   ],
   "source": [
    "game = Hangman()\n",
    "#game.play()"
   ]
  },
  {
   "cell_type": "code",
   "execution_count": 57,
   "metadata": {},
   "outputs": [
    {
     "name": "stdout",
     "output_type": "stream",
     "text": [
      "Turn:  1\n",
      "['_', '_', '_', '_', '_', '_']\n",
      "4  lives remaining\n",
      "Turn:  2\n",
      "['_', '_', '_', '_', '_', '_']\n",
      "4  lives remaining\n",
      "Turn:  3\n",
      "['p', '_', 'p', '_', 'p', '_']\n",
      "Has ganado!!!\n",
      "popopo\n",
      "4  lives remaining\n"
     ]
    }
   ],
   "source": [
    "game.play()"
   ]
  },
  {
   "cell_type": "code",
   "execution_count": 31,
   "metadata": {},
   "outputs": [
    {
     "data": {
      "text/plain": [
       "['_', '_', '_', '_']"
      ]
     },
     "execution_count": 31,
     "metadata": {},
     "output_type": "execute_result"
    }
   ],
   "source": [
    "game.display"
   ]
  },
  {
   "cell_type": "code",
   "execution_count": 49,
   "metadata": {},
   "outputs": [],
   "source": [
    "words = ['cafe', 'taza', 'manolo', 'popopo']"
   ]
  }
 ],
 "metadata": {
  "kernelspec": {
   "display_name": "test",
   "language": "python",
   "name": "python3"
  },
  "language_info": {
   "codemirror_mode": {
    "name": "ipython",
    "version": 3
   },
   "file_extension": ".py",
   "mimetype": "text/x-python",
   "name": "python",
   "nbconvert_exporter": "python",
   "pygments_lexer": "ipython3",
   "version": "3.12.4"
  }
 },
 "nbformat": 4,
 "nbformat_minor": 2
}
