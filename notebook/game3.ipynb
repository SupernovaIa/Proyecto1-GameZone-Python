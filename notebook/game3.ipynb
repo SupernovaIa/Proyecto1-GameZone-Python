{
 "cells": [
  {
   "cell_type": "markdown",
   "metadata": {},
   "source": [
    "# Tic tac toe"
   ]
  },
  {
   "cell_type": "code",
   "execution_count": 84,
   "metadata": {},
   "outputs": [],
   "source": [
    "import random\n",
    "from os import system\n",
    "import time"
   ]
  },
  {
   "cell_type": "code",
   "execution_count": 112,
   "metadata": {},
   "outputs": [],
   "source": [
    "class Tictactoe:\n",
    "\n",
    "    def __init__(self):\n",
    "        \n",
    "        self.display = [ [\"·\" for _ in range(3)] for _ in range(3)]\n",
    "\n",
    "\n",
    "    def show_display(self):\n",
    "        for row in self.display:\n",
    "            print(\"\".join(row))\n",
    "\n",
    "\n",
    "    def turn(self, player):\n",
    "\n",
    "        icon = \"O\" if player == 1 else \"X\"\n",
    "\n",
    "        to_move = True\n",
    "\n",
    "        while to_move:\n",
    "            player_row = int(input(\"Select row, from 1 to 3:\")) - 1\n",
    "            player_col = int(input(\"Select column, from 1 to 3:\")) - 1\n",
    "\n",
    "            if self.display[player_row][player_col] != \"·\":\n",
    "                print(\"Cell already occupied, try othe location\")\n",
    "\n",
    "            elif player_row not in range(3) or player_col not in range(3):\n",
    "                print(\"Select a valid position\")\n",
    "\n",
    "            else:\n",
    "                self.display[player_row][player_col] = icon\n",
    "                to_move = False\n",
    "        \n",
    "    \n",
    "    def check_win(self):\n",
    "        diagonal1 = []\n",
    "        diagonal2 = []\n",
    "\n",
    "        i = 0\n",
    "        j = 2\n",
    "\n",
    "        # Rows\n",
    "        for row in self.display:\n",
    "            if row.count(\"O\") == 3:\n",
    "                print(\"Player 1 wins\")\n",
    "                return True\n",
    "            elif row.count(\"X\") == 3:\n",
    "                print(\"Player 2 wins\")\n",
    "                return True\n",
    "\n",
    "            diagonal1.append(row[i])\n",
    "            i += 1\n",
    "\n",
    "            diagonal2.append(row[j])\n",
    "            j -= 1\n",
    "\n",
    "        # Diagonals\n",
    "        if diagonal1.count(\"O\") == 3:\n",
    "            print(\"Player 1 wins\")\n",
    "            return True\n",
    "\n",
    "        if diagonal1.count(\"X\") == 3:\n",
    "            print(\"Player 2 wins\")\n",
    "            return True \n",
    "\n",
    "        if diagonal2.count(\"O\") == 3:\n",
    "            print(\"Player 1 wins\")\n",
    "            return True\n",
    "\n",
    "        if diagonal2.count(\"X\") == 3:\n",
    "            print(\"Player 2 wins\")\n",
    "            return True  \n",
    "\n",
    "        # Columns\n",
    "        for col in zip(*self.display):\n",
    "            if col.count(\"O\") == 3:\n",
    "                print(\"Player 1 wins\")\n",
    "                return True\n",
    "            elif col.count(\"X\") == 3:\n",
    "                print(\"Player 2 wins\")\n",
    "                return True \n",
    "\n",
    "\n",
    "    def play(self):\n",
    "\n",
    "        while True:\n",
    "            self.show_display()\n",
    "            self.turn(1)\n",
    "            if self.check_win():\n",
    "                break\n",
    "            \n",
    "            self.show_display()\n",
    "            self.turn(2)\n",
    "            if self.check_win():\n",
    "                break\n"
   ]
  },
  {
   "cell_type": "code",
   "execution_count": 113,
   "metadata": {},
   "outputs": [],
   "source": [
    "game = Tictactoe()"
   ]
  },
  {
   "cell_type": "code",
   "execution_count": 114,
   "metadata": {},
   "outputs": [
    {
     "name": "stdout",
     "output_type": "stream",
     "text": [
      "···\n",
      "···\n",
      "···\n",
      "O··\n",
      "···\n",
      "···\n",
      "O··\n",
      "···\n",
      "X··\n",
      "O··\n",
      "·O·\n",
      "X··\n",
      "O·X\n",
      "·O·\n",
      "X··\n",
      "Player 1 wins\n"
     ]
    }
   ],
   "source": [
    "game.play()"
   ]
  }
 ],
 "metadata": {
  "kernelspec": {
   "display_name": "test",
   "language": "python",
   "name": "python3"
  },
  "language_info": {
   "codemirror_mode": {
    "name": "ipython",
    "version": 3
   },
   "file_extension": ".py",
   "mimetype": "text/x-python",
   "name": "python",
   "nbconvert_exporter": "python",
   "pygments_lexer": "ipython3",
   "version": "3.12.4"
  }
 },
 "nbformat": 4,
 "nbformat_minor": 2
}
